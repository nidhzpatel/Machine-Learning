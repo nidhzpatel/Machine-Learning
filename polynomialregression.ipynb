{
  "nbformat": 4,
  "nbformat_minor": 0,
  "metadata": {
    "colab": {
      "provenance": [],
      "authorship_tag": "ABX9TyN3uDgSmYsHykIZyYR7U3Mc",
      "include_colab_link": true
    },
    "kernelspec": {
      "name": "python3",
      "display_name": "Python 3"
    },
    "language_info": {
      "name": "python"
    }
  },
  "cells": [
    {
      "cell_type": "markdown",
      "metadata": {
        "id": "view-in-github",
        "colab_type": "text"
      },
      "source": [
        "<a href=\"https://colab.research.google.com/github/nidhzpatel/Machine-Learning/blob/main/polynomialregression.ipynb\" target=\"_parent\"><img src=\"https://colab.research.google.com/assets/colab-badge.svg\" alt=\"Open In Colab\"/></a>"
      ]
    },
    {
      "cell_type": "markdown",
      "source": [
        "# Polynomial Regression"
      ],
      "metadata": {
        "id": "3sLidX_jT8ca"
      }
    },
    {
      "cell_type": "markdown",
      "source": [
        "# Importing the libraries"
      ],
      "metadata": {
        "id": "rR-UNQhTULcO"
      }
    },
    {
      "cell_type": "code",
      "execution_count": 1,
      "metadata": {
        "id": "vL2ySYy-OIKc"
      },
      "outputs": [],
      "source": [
        "import numpy as np\n",
        "import pandas as pd\n",
        "import matplotlib.pyplot as plt"
      ]
    },
    {
      "cell_type": "markdown",
      "source": [
        "# Importing the Dataset"
      ],
      "metadata": {
        "id": "RhGh3E39Uj5V"
      }
    },
    {
      "cell_type": "code",
      "source": [
        "dataset = pd.read_csv('Position_Salaries.csv')\n",
        "x = dataset.iloc[:,1:-1].values\n",
        "y = dataset.iloc[:,-1].values"
      ],
      "metadata": {
        "id": "cWIWT1K_UWBW"
      },
      "execution_count": 4,
      "outputs": []
    },
    {
      "cell_type": "markdown",
      "source": [
        "# Training the Linear Regression model on whole dataset"
      ],
      "metadata": {
        "id": "S63wACPEVZsA"
      }
    },
    {
      "cell_type": "code",
      "source": [
        "from sklearn.linear_model import LinearRegression\n",
        "lin_regressor = LinearRegression()\n",
        "lin_regressor.fit(x,y)"
      ],
      "metadata": {
        "colab": {
          "base_uri": "https://localhost:8080/"
        },
        "id": "8mcPwMXdcikh",
        "outputId": "3bd7fad5-d60c-4333-86d4-79daebdbc49e"
      },
      "execution_count": 5,
      "outputs": [
        {
          "output_type": "execute_result",
          "data": {
            "text/plain": [
              "LinearRegression()"
            ]
          },
          "metadata": {},
          "execution_count": 5
        }
      ]
    },
    {
      "cell_type": "markdown",
      "source": [
        "# Training the Polynomial Regression model on whole dataset"
      ],
      "metadata": {
        "id": "FSV_4HscVl89"
      }
    },
    {
      "cell_type": "markdown",
      "source": [
        "**Procedure for creating Polynomial model**\n",
        "\n",
        "\n",
        "*   It contains features like x1^2,x2^2...SO, we first need to create this feature matrix\n",
        "*   After creating matrix we will apply regression model to them.\n",
        "\n"
      ],
      "metadata": {
        "id": "0-WetSjOtOL0"
      }
    },
    {
      "cell_type": "code",
      "source": [
        "from sklearn.preprocessing import PolynomialFeatures\n",
        "#  explored with degree == 2,4,\n",
        "poly_reg = PolynomialFeatures(degree = 4)\n",
        "X_poly = poly_reg.fit_transform(x)\n",
        "lin_reg_2 = LinearRegression()\n",
        "lin_reg_2.fit(X_poly,y)"
      ],
      "metadata": {
        "id": "NzF8iStl5i9G",
        "colab": {
          "base_uri": "https://localhost:8080/"
        },
        "outputId": "43ede814-994a-4e0d-94e6-7ecaa646fc77"
      },
      "execution_count": 17,
      "outputs": [
        {
          "output_type": "execute_result",
          "data": {
            "text/plain": [
              "LinearRegression()"
            ]
          },
          "metadata": {},
          "execution_count": 17
        }
      ]
    },
    {
      "cell_type": "markdown",
      "source": [
        "# Visualizing the linear regression results"
      ],
      "metadata": {
        "id": "uXyzPlfiVuod"
      }
    },
    {
      "cell_type": "code",
      "source": [
        "plt.scatter(x,y,color = 'red')\n",
        "plt.plot(x,lin_regressor.predict(x),color = 'blue')\n",
        "plt.title('Visualise Linear Regression Model')\n",
        "plt.xlabel(\"Position level\")\n",
        "plt.ylabel(\"Salary\")\n",
        "plt.show()"
      ],
      "metadata": {
        "id": "6HRB5y5nVtZx",
        "colab": {
          "base_uri": "https://localhost:8080/",
          "height": 295
        },
        "outputId": "c92a5a2c-47d7-44b3-fca5-7b54730c1da1"
      },
      "execution_count": 16,
      "outputs": [
        {
          "output_type": "display_data",
          "data": {
            "text/plain": [
              "<Figure size 432x288 with 1 Axes>"
            ],
            "image/png": "[encoded data removed]"
          },
          "metadata": {
            "needs_background": "light"
          }
        }
      ]
    },
    {
      "cell_type": "markdown",
      "source": [
        "# Visualizing the Polynomial regression result"
      ],
      "metadata": {
        "id": "KQVxMHjpV7wK"
      }
    },
    {
      "cell_type": "code",
      "source": [
        "plt.scatter(x,y,color = 'red')\n",
        "plt.plot(x,lin_reg_2.predict(X_poly),color = 'blue')\n",
        "plt.title('Visualise Polynomial Regression Model')\n",
        "plt.xlabel(\"Position level\")\n",
        "plt.ylabel(\"Salary\")\n",
        "plt.show()"
      ],
      "metadata": {
        "colab": {
          "base_uri": "https://localhost:8080/",
          "height": 295
        },
        "id": "Twoj0nTv02No",
        "outputId": "231f4f16-4c5e-402b-920c-0afe773f0cd9"
      },
      "execution_count": 18,
      "outputs": [
        {
          "output_type": "display_data",
          "data": {
            "text/plain": [
              "<Figure size 432x288 with 1 Axes>"
            ],
            "image/png": "[encoded data removed]"
          },
          "metadata": {
            "needs_background": "light"
          }
        }
      ]
    },
    {
      "cell_type": "markdown",
      "source": [
        "# Visualizing the Polynomial Regression results (for heigher resolution and smooth curve)\n",
        " "
      ],
      "metadata": {
        "id": "0rDYcHVnWCnB"
      }
    },
    {
      "cell_type": "code",
      "source": [
        "X_grid = np.arange(min(x), max(x), 0.1)\n",
        "X_grid = X_grid.reshape((len(X_grid), 1))\n",
        "plt.scatter(x, y, color = 'red')\n",
        "plt.plot(X_grid, lin_reg_2.predict(poly_reg.fit_transform(X_grid)), color = 'blue')\n",
        "plt.title('Visualize Polynomial Regression)')\n",
        "plt.xlabel('Position level')\n",
        "plt.ylabel('Salary')\n",
        "plt.show()"
      ],
      "metadata": {
        "colab": {
          "base_uri": "https://localhost:8080/",
          "height": 295
        },
        "id": "x6gdviTB6mPb",
        "outputId": "61d34fd4-9746-4d77-8607-1f6f0bfa78cd"
      },
      "execution_count": 23,
      "outputs": [
        {
          "output_type": "display_data",
          "data": {
            "text/plain": [
              "<Figure size 432x288 with 1 Axes>"
            ],
            "image/png": "[encoded data removed]"
          },
          "metadata": {
            "needs_background": "light"
          }
        }
      ]
    },
    {
      "cell_type": "markdown",
      "source": [
        "# Predicting a result with Linear regression model"
      ],
      "metadata": {
        "id": "GWpbgvUKWeQJ"
      }
    },
    {
      "cell_type": "code",
      "source": [
        "lin_regressor.predict([[6.5]])"
      ],
      "metadata": {
        "colab": {
          "base_uri": "https://localhost:8080/"
        },
        "id": "A-Xz0mFo9ued",
        "outputId": "d3f89dda-0d65-47dd-ecc7-17f891b8b372"
      },
      "execution_count": 24,
      "outputs": [
        {
          "output_type": "execute_result",
          "data": {
            "text/plain": [
              "array([330378.78787879])"
            ]
          },
          "metadata": {},
          "execution_count": 24
        }
      ]
    },
    {
      "cell_type": "markdown",
      "source": [
        "# Predicting result with polynomial regression model"
      ],
      "metadata": {
        "id": "2ZmNiOPeWoly"
      }
    },
    {
      "cell_type": "code",
      "source": [
        "x_poly = poly_reg.fit_transform([[6.5]])\n",
        "lin_reg_2.predict(x_poly)"
      ],
      "metadata": {
        "id": "TpA1yCouWwQE",
        "colab": {
          "base_uri": "https://localhost:8080/"
        },
        "outputId": "5b4b5401-5d19-4144-80c8-7b3ab72ff363"
      },
      "execution_count": 26,
      "outputs": [
        {
          "output_type": "execute_result",
          "data": {
            "text/plain": [
              "array([158862.45265155])"
            ]
          },
          "metadata": {},
          "execution_count": 26
        }
      ]
    },
    {
      "cell_type": "code",
      "source": [],
      "metadata": {
        "id": "9mi38kQC-v2b"
      },
      "execution_count": null,
      "outputs": []
    }
  ]
}
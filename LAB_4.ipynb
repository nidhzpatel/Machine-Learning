{
 "cells": [
  {
   "cell_type": "markdown",
   "metadata": {
    "id": "J59uxyWVDHIH"
   },
   "source": [
    "# <center> IIIT Vadodara </center>\n",
    "## <center> Winter 2021-22 </center>\n",
    "## <center> CS 612, CS 652, CS/IT 308 Machine Learning </center>\n",
    "## <center> Lab#4 MMSE, Linear regression, and Logistic regression</center>"
   ]
  },
  {
   "cell_type": "code",
   "execution_count": 1,
   "metadata": {
    "id": "avzQ8wuovv0r"
   },
   "outputs": [],
   "source": [
    "%matplotlib inline\n",
    "import numpy as np\n",
    "import matplotlib.pyplot as plt\n",
    "from mpl_toolkits import mplot3d\n",
    "from scipy import misc\n",
    "from numpy import linalg as la\n",
    "import matplotlib.image as mpimg\n",
    "import glob\n",
    "from numpy import linalg as LA\n",
    "import scipy.io as sio "
   ]
  },
  {
   "cell_type": "markdown",
   "metadata": {
    "id": "Ul9TzH7FarSJ"
   },
   "source": [
    "## <font color='blue'> MMSE\n",
    "\n",
    "---\n",
    "\n",
    "Refer class note\n",
    "\n"
   ]
  },
  {
   "cell_type": "markdown",
   "metadata": {
    "id": "9LxANVCMGpeg"
   },
   "source": [
    "## <font color='red'> 1. Find the minimum mean squared error (MMSE) on following data."
   ]
  },
  {
   "cell_type": "code",
   "execution_count": 322,
   "metadata": {
    "colab": {
     "base_uri": "https://localhost:8080/"
    },
    "id": "29q1QCGfGoji",
    "outputId": "3817ed2b-027b-4a84-f0da-c22993224fb7"
   },
   "outputs": [
    {
     "name": "stdout",
     "output_type": "stream",
     "text": [
      "The Mean Square Error is:  1.45\n"
     ]
    }
   ],
   "source": [
    "y = [11,20,19,17,10]\n",
    "y_bar = [12,18,19.5,18,9]\n",
    "\n",
    "#write code here\n",
    "sum=0\n",
    "for i in range(len(y)):\n",
    "    sum+=(y[i]-y_bar[i])**2\n",
    "MSE=sum/len(y)\n",
    "print (\"The Mean Square Error is: \" , MSE)"
   ]
  },
  {
   "cell_type": "markdown",
   "metadata": {
    "id": "mSc_Dw5NIEQR"
   },
   "source": [
    "## <font color='red'> 2 Given a sample space $S_{XY}={(0,0),(1,1),(2,2),(2,3)}$, with equiprobable outcomes, i.e., $p(0,0)=p(1,1)=p(2,2)=p(2,3)=\\frac{1}{4}$. Estimate $\\hat{Y}$ given X.\n",
    "\n",
    "\n",
    "$$\\hat{Y}=E(Y)+\\frac{COV(X,Y)}{VAR(X)}(X-E(X))$$\n",
    "\n",
    "Also calculate the mean squared error between $\\hat{Y}$ and $Y$.\n",
    "\n",
    "\n",
    "Hint: You can use the classnotes for help."
   ]
  },
  {
   "cell_type": "code",
   "execution_count": 323,
   "metadata": {
    "id": "_DVM24iIOLvs"
   },
   "outputs": [
    {
     "name": "stdout",
     "output_type": "stream",
     "text": [
      "Y_hat is  [-0.09090909090909083, 1.1818181818181819, 2.4545454545454546, 2.4545454545454546]\n",
      "Mean square error is  0.13636363636363635\n"
     ]
    }
   ],
   "source": [
    "#write code here\n",
    "Sxy=np.array([[0,0],[1,1],[2,2],[2,3]])\n",
    "p=0.25\n",
    "Ex,Ey,Ex_square,Exy=0,0,0,0\n",
    "for x,y in Sxy:\n",
    "    Ex+=p*x\n",
    "    Ey+=p*y\n",
    "    Ex_square+=p*(x**2)\n",
    "    Exy+=x*y*p\n",
    "Var_x=Ex_square-(Ex**2)\n",
    "Cov_xy=Exy-(Ex*Ey)\n",
    "y_bar=[]\n",
    "for x,y in Sxy:\n",
    "    y_bar.append(Ey+(Cov_xy/Var_x)*(x-Ex))\n",
    "sum=0\n",
    "\n",
    "for x,y in zip(Sxy,y_bar):\n",
    "    sum+=(x[1]-y)**2\n",
    "MSE=sum/len(y_bar)\n",
    "print(\"Y_hat is \",y_bar)\n",
    "print(\"Mean square error is \",MSE)"
   ]
  },
  {
   "cell_type": "markdown",
   "metadata": {
    "id": "sA91hARzDHIN"
   },
   "source": [
    "## <font color='blue'> Linear regression\n",
    "\n",
    "---\n",
    "\n",
    "Refer class note\n",
    "\n"
   ]
  },
  {
   "cell_type": "markdown",
   "metadata": {
    "id": "A_AErP9zTzhW"
   },
   "source": [
    "## <font color='red'> 3. Perform linear regression on the given dataset and observe underfitting and overfitting capacity of the function."
   ]
  },
  {
   "cell_type": "code",
   "execution_count": 324,
   "metadata": {
    "colab": {
     "base_uri": "https://localhost:8080/"
    },
    "id": "ece3rfGPDHIO",
    "outputId": "5142bd24-093b-4437-af3a-2c9dbd2fb8be"
   },
   "outputs": [
    {
     "name": "stdout",
     "output_type": "stream",
     "text": [
      "[0.7478077  0.52969572 0.07977086 0.37446357 0.35399524 0.75517364\n",
      " 0.37880436 0.97644262 0.88296761 0.23439882] [0.  0.2 0.4 0.6 0.8 1.  1.2 1.4 1.6 1.8] [1.49561541 1.09939144 0.31954172 1.10892714 1.34799048 2.51034729\n",
      " 2.19760872 3.91288524 4.32593522 3.70879764]\n"
     ]
    }
   ],
   "source": [
    "#example of dataset:\n",
    "\n",
    "no_samples = 10\n",
    "\n",
    "#Generate n = np.random.rand(no_samples) # Here data is zero mean\n",
    "#Generate x between 0 and 2 using number of smaples\n",
    "\n",
    "#Generate function y dependent on x and n: y = x**2+2*n\n",
    "\n",
    "n = np.random.rand(no_samples)\n",
    "x=np.arange(0,2,2/no_samples)\n",
    "y=[]\n",
    "y=x**2+2*n\n",
    "print(n,x,y)"
   ]
  },
  {
   "cell_type": "code",
   "execution_count": 325,
   "metadata": {
    "colab": {
     "base_uri": "https://localhost:8080/",
     "height": 283
    },
    "id": "oXhg_EyRDHIO",
    "outputId": "48f753dd-a6a5-4f21-91a7-701828b0bd16"
   },
   "outputs": [
    {
     "data": {
      "text/plain": [
       "<matplotlib.collections.PathCollection at 0x2b8ca27d670>"
      ]
     },
     "execution_count": 325,
     "metadata": {},
     "output_type": "execute_result"
    },
    {
     "data": {
      "image/png": "[encoded data removed]",
      "text/plain": [
       "<Figure size 432x288 with 1 Axes>"
      ]
     },
     "metadata": {
      "needs_background": "light"
     },
     "output_type": "display_data"
    }
   ],
   "source": [
    "# code to scatter plot x and y\n",
    "plt.scatter(x,y)\n"
   ]
  },
  {
   "cell_type": "markdown",
   "metadata": {
    "id": "FRn1fNC3V6A2"
   },
   "source": [
    "#### Hint: Pseudo inverse\n",
    " $$Y = W^TX$$\n",
    " $$W = (X^TX)^{-1}X^TY$$ "
   ]
  },
  {
   "cell_type": "markdown",
   "metadata": {
    "id": "Q2hKjTtGW1_Q"
   },
   "source": [
    "1. Take $y = \\theta_0 + \\theta_1 x$"
   ]
  },
  {
   "cell_type": "code",
   "execution_count": 326,
   "metadata": {
    "colab": {
     "base_uri": "https://localhost:8080/"
    },
    "id": "t314LgujDfsU",
    "outputId": "db9066b0-3914-43b0-dd2a-928d856f12f3"
   },
   "outputs": [
    {
     "name": "stdout",
     "output_type": "stream",
     "text": [
      "[[1, 0.0], [1, 0.2], [1, 0.4], [1, 0.6000000000000001], [1, 0.8], [1, 1.0], [1, 1.2000000000000002], [1, 1.4000000000000001], [1, 1.6], [1, 1.8]]\n",
      "[0.43271587 1.96665351]\n"
     ]
    }
   ],
   "source": [
    "#Generate X1 by concatinating ones and x as shown in output\n",
    "X1=[]\n",
    "for i in x:\n",
    "    X1.append([1,i])\n",
    "W1=np.linalg.pinv(X1).dot(y)\n",
    "#Find W1 using pseudo inverse\n",
    "print(X1)\n",
    "print(W1)"
   ]
  },
  {
   "cell_type": "markdown",
   "metadata": {
    "id": "QSz_j96NXFrl"
   },
   "source": [
    "2. Take $y = \\theta_0 + \\theta_1 x + \\theta_2 x^2 +\\theta_3 x^3 +\\theta_4 x^4+\\theta_5 x^5$"
   ]
  },
  {
   "cell_type": "code",
   "execution_count": 327,
   "metadata": {
    "id": "k15lcMq9GqY5"
   },
   "outputs": [
    {
     "name": "stdout",
     "output_type": "stream",
     "text": [
      "[[1, 0.0, 0.0, 0.0, 0.0, 0.0], [1, 0.2, 0.04000000000000001, 0.008000000000000002, 0.0016000000000000003, 0.0003200000000000001], [1, 0.4, 0.16000000000000003, 0.06400000000000002, 0.025600000000000005, 0.010240000000000003], [1, 0.6000000000000001, 0.3600000000000001, 0.2160000000000001, 0.12960000000000008, 0.07776000000000005], [1, 0.8, 0.6400000000000001, 0.5120000000000001, 0.4096000000000001, 0.3276800000000001], [1, 1.0, 1.0, 1.0, 1.0, 1.0], [1, 1.2000000000000002, 1.4400000000000004, 1.7280000000000009, 2.073600000000001, 2.4883200000000016], [1, 1.4000000000000001, 1.9600000000000004, 2.7440000000000007, 3.8416000000000015, 5.378240000000003], [1, 1.6, 2.5600000000000005, 4.096000000000001, 6.553600000000001, 10.485760000000003], [1, 1.8, 3.24, 5.832000000000001, 10.4976, 18.895680000000002]]\n",
      "[  1.57275171  -7.03579397  19.56183748 -23.53675326  15.19353931\n",
      "  -3.74580842]\n"
     ]
    }
   ],
   "source": [
    "#Generate X2 by concatinating ones,x,x**2,x**3,x**4,x**5 \n",
    "\n",
    "#Generate W2 using: W2= la.inv(X2.T@X2)@X2.T@y\n",
    "\n",
    "X2=[]\n",
    "for i in x:\n",
    "        X2.append([1,i,i**2,i**3,i**4,i**5])\n",
    "W2=np.linalg.pinv(X2).dot(y)\n",
    "print(X2)\n",
    "print(W2)"
   ]
  },
  {
   "cell_type": "markdown",
   "metadata": {
    "id": "O8dE-LFTXjlg"
   },
   "source": [
    "3. Take $y = \\theta_0 + \\theta_1 x + \\theta_2 x^2 $"
   ]
  },
  {
   "cell_type": "code",
   "execution_count": 328,
   "metadata": {
    "id": "TzezcIs1EKyU"
   },
   "outputs": [
    {
     "name": "stdout",
     "output_type": "stream",
     "text": [
      "[[1, 0.0, 0.0], [1, 0.2, 0.04000000000000001], [1, 0.4, 0.16000000000000003], [1, 0.6000000000000001, 0.3600000000000001], [1, 0.8, 0.6400000000000001], [1, 1.0, 1.0], [1, 1.2000000000000002, 1.4400000000000004], [1, 1.4000000000000001, 1.9600000000000004], [1, 1.6, 2.5600000000000005], [1, 1.8, 3.24]]\n",
      "[ 1.00052251 -0.16262139  1.1829305 ]\n"
     ]
    }
   ],
   "source": [
    "#Generate X3 by concatinating ones,x,x**2 \n",
    "\n",
    "#Generate W3 using: W2= la.inv(X3.T@X3)@X3.T@y\n",
    "\n",
    "X3=[]\n",
    "for i in x:\n",
    "        X3.append([1,i,i**2])\n",
    "W3=np.linalg.pinv(X3).dot(y)\n",
    "print(X3)\n",
    "print(W3)"
   ]
  },
  {
   "cell_type": "code",
   "execution_count": 329,
   "metadata": {
    "colab": {
     "base_uri": "https://localhost:8080/",
     "height": 374
    },
    "id": "FTXLSaztFzlZ",
    "outputId": "9cc8334d-382a-4178-da1e-a38ee1d61f20"
   },
   "outputs": [
    {
     "data": {
      "text/plain": [
       "<matplotlib.legend.Legend at 0x2b8ca2dfd30>"
      ]
     },
     "execution_count": 329,
     "metadata": {},
     "output_type": "execute_result"
    },
    {
     "data": {
      "image/png": "[encoded data removed]",
      "text/plain": [
       "<Figure size 432x288 with 1 Axes>"
      ]
     },
     "metadata": {
      "needs_background": "light"
     },
     "output_type": "display_data"
    }
   ],
   "source": [
    "fig = plt.figure()\n",
    "plt.scatter(x,y)\n",
    "\n",
    "#Generate y_p1 = X1@W1\n",
    "#Generate y_p2 = X2@W2\n",
    "#Generate y_p3 = X3@W3\n",
    "\n",
    "\n",
    "#Plot x,y_p1\n",
    "#plot x,y_p2\n",
    "#plot x,y_p3\n",
    "\n",
    "y_p1=np.array(X1).dot(W1)\n",
    "y_p2=np.array(X2).dot(W2)\n",
    "y_p3=np.array(X3).dot(W3)\n",
    "plt.plot(x,y_p1)\n",
    "plt.plot(x,y_p2)\n",
    "plt.plot(x,y_p3)\n",
    "plt.legend([\"line\",\"higher degree polynomial\",\"second degree polynomial\"])"
   ]
  },
  {
   "cell_type": "markdown",
   "metadata": {
    "id": "elPPF--j54CE"
   },
   "source": [
    "## <font color='blue'> Brief about **Gradient descent**:\n",
    "---\n",
    "\n",
    "\n",
    "Given a system $Ax=b$, we find $x$ for given observations $b$ and coeffiecient matrix $A$. When $b$ is not in column space of $A$, then $Ax \\neq b$ and we need to find $x$ in such a way that $Ax \\approx b$.\n",
    "\n",
    "<br>\n",
    "Linear least square is one of the methods to estimate $x$ by minimizing the mean square error as, $\\min ||Ax-b||_2$. This can be written as,\n",
    "        \n",
    "$\\underset{x}{\\mathrm{argmin}}||Ax-b||_{2}^{2} = f(x)$\n",
    "\n",
    "We need to find $x$ in such a way that $f(x)$ will be minimum in $L_2$ norm. \n",
    "\n",
    "<br>\n",
    "\n",
    "\n",
    "We will solve this by applying gradient descent algortithm on $f(x)$. \n",
    "<br>\n",
    "To apply this algorithm we need to find gradient of the function, i.e.,\n",
    "<br>\n",
    "              $\\Delta_x f(x)= A^T(Ax-b) = A^TAx-A^Tb$\n",
    "\n",
    "<br>\n",
    "\n",
    "\n",
    "Optimisation for least-squares\n",
    "<br>\n",
    "$||A^TAx-A^Tb||_2>\\delta$, $\\delta$ is the small positive number indicating tolerance.\n",
    "\n",
    "<br>\n",
    "\n",
    "Now we will find new x iteratively using step size $\\alpha$ to find the best fit for $AX=b$ as:\n",
    "\n",
    "<br>\n",
    "$x^{[n+1]}=x^{[n]}-\\alpha (A^TAx-A^Tb)$.\n",
    "<br>\n",
    "\n",
    "We need to choose $\\alpha$, $\\delta$ and $x^{[0]}$ to iterate until $x^{[n+1]} \\rightarrow x^{[n]}$."
   ]
  },
  {
   "cell_type": "markdown",
   "metadata": {
    "id": "5RHmtTp_2rD-"
   },
   "source": [
    "##  <font color='blue'> Logistic regression\n",
    "\n",
    "---\n",
    "Cost funcion for logistic regression,\n",
    "$$\n",
    "\\begin{aligned}\n",
    "J(\\theta) &=\\frac{1}{m} \\sum_{i=1}^{m} \\cos t\\left(h_{\\theta}\\left(x^{i}\\right), y^{\\prime}\\right) \\\\\n",
    "&=-\\frac{1}{m}\\left[\\sum_{i=1}^{m} y^{i} \\log h_{\\theta}\\left(x^{i}\\right)+\\left(1-y^{i}\\right)\\right.\\log \\left(1-\\log \\left(x^{i}\\right)\\right]\\\\\n",
    "h(x)&=\\frac{1}{1+e^{-\\Theta^Tx}}\n",
    "\\end{aligned}\n",
    "$$\n",
    "So, using gradient descent\n",
    "$$\n",
    "\\Theta_{i+1}=\\Theta_{i}-\\frac{\\alpha}{m} \\sum_{i=1}^{m}\\left(h\\left(x^{i} \\Theta\\right)-y^{i}\\right)\n",
    "$$\n",
    "iterate till $$\n",
    "\\Theta_{i+1} \\cong \\Theta_{i}\n",
    "$$\n",
    "\n",
    "\n"
   ]
  },
  {
   "cell_type": "markdown",
   "metadata": {
    "id": "bmByR5kGEznY"
   },
   "source": [
    "## <font color='red'> 4. Perform logistic regression on the dataset given below.\n",
    "Here, to classify 2D data,\n",
    "decision line can be given as,\n",
    "$$\\theta_0+\\theta_1x+\\theta_2y=0$$\n",
    "Let, $$\\Theta^T=\\begin{bmatrix}\n",
    "\\theta_0\\\\\n",
    "\\theta_1\\\\\n",
    "\\theta_2\n",
    "\\end{bmatrix}$$"
   ]
  },
  {
   "cell_type": "code",
   "execution_count": 3,
   "metadata": {
    "colab": {
     "base_uri": "https://localhost:8080/"
    },
    "id": "z5jBd5UfOKPK",
    "outputId": "0adfa464-1095-40aa-cb82-1833c4ee907a"
   },
   "outputs": [
    {
     "name": "stdout",
     "output_type": "stream",
     "text": [
      "x|y|class\n",
      "[[0 0 0]\n",
      " [0 1 0]\n",
      " [0 2 0]\n",
      " [0 3 1]\n",
      " [1 0 0]\n",
      " [1 1 0]\n",
      " [1 2 1]\n",
      " [1 3 1]\n",
      " [2 0 0]\n",
      " [2 1 1]\n",
      " [2 2 1]\n",
      " [2 3 1]]\n"
     ]
    }
   ],
   "source": [
    "#Dataset example\n",
    "\n",
    "X = np.array([[0,0,0],[0,1,0],[0,2,0],[0,3,1],[1,0,0],[1,1,0],[1,2,1],[1,3,1],[2,0,0],[2,1,1],[2,2,1],[2,3,1]])\n",
    "Xb =X\n",
    "print(\"x|y|class\")\n",
    "print(Xb)"
   ]
  },
  {
   "cell_type": "code",
   "execution_count": 4,
   "metadata": {
    "colab": {
     "base_uri": "https://localhost:8080/",
     "height": 265
    },
    "id": "FCTOtJI2OKPK",
    "outputId": "6a09da7b-5d26-409c-e4b0-eca97f0180f7"
   },
   "outputs": [
    {
     "data": {
      "image/png": "[encoded data removed]",
      "text/plain": [
       "<Figure size 432x288 with 1 Axes>"
      ]
     },
     "metadata": {
      "needs_background": "light"
     },
     "output_type": "display_data"
    }
   ],
   "source": [
    "#Generate scatter plot of X\n",
    "uq = np.unique(X[:,-1])\n",
    "for i in uq:\n",
    "    cl1 = X[X[:,-1]==i]\n",
    "    plt.scatter(cl1[:,0], cl1[:,1],linewidth=10)"
   ]
  },
  {
   "cell_type": "code",
   "execution_count": 5,
   "metadata": {
    "id": "8nFt5IMZOKPL"
   },
   "outputs": [
    {
     "name": "stdout",
     "output_type": "stream",
     "text": [
      "[[1 0 0]\n",
      " [1 0 1]\n",
      " [1 0 2]\n",
      " [1 0 3]\n",
      " [1 1 0]\n",
      " [1 1 1]\n",
      " [1 1 2]\n",
      " [1 1 3]\n",
      " [1 2 0]\n",
      " [1 2 1]\n",
      " [1 2 2]\n",
      " [1 2 3]] [0 0 0 1 0 0 1 1 0 1 1 1]\n"
     ]
    }
   ],
   "source": [
    "# Generate X by concatinating ones and X\n",
    "X=[]\n",
    "Y=[]\n",
    "for x1,x2,y in Xb:\n",
    "    X.append([1,x1,x2])\n",
    "    Y.append(y)\n",
    "X=np.array(X)\n",
    "Y=np.array(Y)\n",
    "print(X,Y)"
   ]
  },
  {
   "cell_type": "code",
   "execution_count": 8,
   "metadata": {
    "colab": {
     "base_uri": "https://localhost:8080/"
    },
    "id": "7pkIlNlSyP1h",
    "outputId": "be6b4e56-7eef-48ce-a7f5-71e25b31a053"
   },
   "outputs": [
    {
     "name": "stdout",
     "output_type": "stream",
     "text": [
      "Thethas [-0.26000000000000034, 0.11799999999999974, 0.11799999999999974]\n"
     ]
    }
   ],
   "source": [
    "#write code for gradient descent to find thetas\n",
    "def sigmoid(z):\n",
    "    return 1.0/(1.0+np.exp(-z))\n",
    "\n",
    "def hx(w,X):\n",
    "    z=np.array(w[0]*np.array(X[:,0])+w[1]*np.array(X[:,1])+w[2]*np.array(X[:,2]))\n",
    "    return sigmoid(z)\n",
    "    \n",
    "def grad(w,X,Y):\n",
    "    y_pred=hx(w,X)\n",
    "    y_pred=np.array([1 if p >= 0.5 else 0 for p in y_pred])\n",
    "    g=[0]*X.shape[1]\n",
    "    for i in range(X.shape[1]):\n",
    "        g[i]=-1*np.sum(Y*(1-y_pred)*X[:,i]-(1-Y)*y_pred*X[:,i])\n",
    "    return g\n",
    "\n",
    "def descent(w_new,w_prev,lr):\n",
    "    epochs=0\n",
    "    while True:\n",
    "        w_prev=w_new\n",
    "        g=grad(w_prev,X,Y)\n",
    "        w0=w_prev[0]-lr*g[0]\n",
    "        w1=w_prev[1]-lr*g[1]\n",
    "        w2=w_prev[2]-lr*g[2]\n",
    "        w_new=[w0,w1,w2]\n",
    "        if (w_new[0]-w_prev[0])**2+(w_new[1]-w_prev[1])**2+(w_new[2]-w_prev[2])**2<pow(10,-6):\n",
    "            return w_new\n",
    "        \n",
    "        if epochs>100:\n",
    "            return w_new\n",
    "        epochs+=1\n",
    "\n",
    "w=[1,1,1]\n",
    "w=descent(w,w,0.009)\n",
    "print(\"Thethas\", w)"
   ]
  },
  {
   "cell_type": "code",
   "execution_count": 9,
   "metadata": {},
   "outputs": [
    {
     "data": {
      "text/plain": [
       "[<matplotlib.lines.Line2D at 0x2d3d38ba460>]"
      ]
     },
     "execution_count": 9,
     "metadata": {},
     "output_type": "execute_result"
    },
    {
     "data": {
      "image/png": "[encoded data removed]",
      "text/plain": [
       "<Figure size 432x288 with 1 Axes>"
      ]
     },
     "metadata": {
      "needs_background": "light"
     },
     "output_type": "display_data"
    }
   ],
   "source": [
    "uq = np.unique(X[:,-1])\n",
    "for i in uq:\n",
    "    cl1 = Xb[Xb[:,-1]==i]\n",
    "    plt.scatter(cl1[:,0], cl1[:,1],linewidth=10)\n",
    "    \n",
    "x=np.linspace(0,2,10)\n",
    "y=(-w[0]-w[1]*x)/w[2]\n",
    "plt.plot(x,y)"
   ]
  },
  {
   "cell_type": "code",
   "execution_count": null,
   "metadata": {},
   "outputs": [],
   "source": []
  }
 ],
 "metadata": {
  "colab": {
   "name": "LAB_4.ipynb",
   "provenance": []
  },
  "kernelspec": {
   "display_name": "Python 3",
   "language": "python",
   "name": "python3"
  },
  "language_info": {
   "codemirror_mode": {
    "name": "ipython",
    "version": 3
   },
   "file_extension": ".py",
   "mimetype": "text/x-python",
   "name": "python",
   "nbconvert_exporter": "python",
   "pygments_lexer": "ipython3",
   "version": "3.8.5"
  }
 },
 "nbformat": 4,
 "nbformat_minor": 1
}

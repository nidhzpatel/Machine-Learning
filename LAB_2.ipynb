{
 "cells": [
  {
   "cell_type": "markdown",
   "metadata": {
    "id": "YfpW8wzfLZRz"
   },
   "source": [
    "# <center> IIIT Vadodara </center>\n",
    "## <center> Winter 2021-22 </center>\n",
    "## <center> CS 612, CS 652, CS/IT 308 Machine Learning </center>\n",
    "## <center> Lab#2 Bayes' classifier,k-means and k-NN</center>"
   ]
  },
  {
   "cell_type": "code",
   "execution_count": 1,
   "metadata": {
    "id": "rBwta02ILZR-"
   },
   "outputs": [],
   "source": [
    "import numpy as np\n",
    "import matplotlib.pyplot as plt\n",
    "%matplotlib inline"
   ]
  },
  {
   "cell_type": "markdown",
   "metadata": {
    "id": "2lhR0afmLZR_"
   },
   "source": [
    "## 1. Bayesian decision rule under normality assumption\n",
    "Hint: use classnote for same"
   ]
  },
  {
   "cell_type": "markdown",
   "metadata": {
    "id": "7WCRh8iOLZR_"
   },
   "source": [
    "### Consider the following data:\n",
    "Here, second column represent the class"
   ]
  },
  {
   "cell_type": "code",
   "execution_count": 2,
   "metadata": {
    "colab": {
     "base_uri": "https://localhost:8080/"
    },
    "id": "KxgHvtUJLZSA",
    "outputId": "8d8a1f7a-be9e-4907-93d0-3c28e32ef873"
   },
   "outputs": [
    {
     "name": "stdout",
     "output_type": "stream",
     "text": [
      "Feature|Classe\n",
      "[[3.39 0.  ]\n",
      " [3.58 0.  ]\n",
      " [2.28 0.  ]\n",
      " [7.42 1.  ]\n",
      " [5.74 1.  ]\n",
      " [9.17 1.  ]\n",
      " [7.79 1.  ]\n",
      " [7.93 1.  ]\n",
      " [1.34 0.  ]\n",
      " [3.11 0.  ]]\n"
     ]
    }
   ],
   "source": [
    "dataset = np.array([[3.39,0],[3.58,0],[2.28,0],[7.42,1],[5.74,1],[9.17,1],[7.79,1],[7.93,1],[1.34,0],[3.11,0]])\n",
    "print('Feature|Classe')\n",
    "print(dataset)"
   ]
  },
  {
   "cell_type": "markdown",
   "metadata": {
    "id": "imI3eVgwLZSC"
   },
   "source": [
    "### Find class probability $P_1$ and $P_2$"
   ]
  },
  {
   "cell_type": "code",
   "execution_count": 3,
   "metadata": {
    "colab": {
     "base_uri": "https://localhost:8080/"
    },
    "id": "OpFA5bR4LZSC",
    "outputId": "b86a4357-beac-415d-e9f2-2645463f1fa3"
   },
   "outputs": [
    {
     "name": "stdout",
     "output_type": "stream",
     "text": [
      "[0. 0. 0. 1. 1. 1. 1. 1. 0. 0.]\n",
      "count_zero  5\n",
      "count_one  5\n",
      "Probability of zero  0.5\n",
      "Probability of one  0.5\n"
     ]
    }
   ],
   "source": [
    "#write code here\n",
    "#class=dataset[:,1]\n",
    "class_array = dataset[:,1]\n",
    "print(class_array)\n",
    "count_zero=0\n",
    "count_one=0\n",
    "for i in class_array:\n",
    "    if i==0:\n",
    "        count_zero +=1\n",
    "    else:\n",
    "        count_one +=1\n",
    "print(\"count_zero \",count_zero)\n",
    "print(\"count_one \",count_one)\n",
    "length = len(class_array)\n",
    "probability_zero = (count_zero/length)\n",
    "probability_one = (count_one/length)\n",
    "print(\"Probability of zero \",probability_zero)\n",
    "print(\"Probability of one \",probability_one)"
   ]
  },
  {
   "cell_type": "markdown",
   "metadata": {
    "id": "HvlauLURLZSC"
   },
   "source": [
    "### Find sample mean and sample standard deviation for each class "
   ]
  },
  {
   "cell_type": "code",
   "execution_count": 4,
   "metadata": {
    "colab": {
     "base_uri": "https://localhost:8080/"
    },
    "id": "Z3Ks7fj2LZSD",
    "outputId": "8beb89eb-ec0a-4756-a0f6-602df450ac9f"
   },
   "outputs": [
    {
     "name": "stdout",
     "output_type": "stream",
     "text": [
      "Total value of class 0 13.7\n",
      "Total value of class 1 38.05\n",
      "Sample mean for class 0 2.7399999999999998\n",
      "Sample mean for class 1 7.609999999999999\n",
      "Variance of class 0  0.8591500000000001\n",
      "Variance of class 1  1.5253499999999995\n",
      "Standard deviation of class 0  0.9269034469673743\n",
      "Standard deviation of class 1  1.2350506062506101\n"
     ]
    }
   ],
   "source": [
    "#write code here\n",
    "import math\n",
    "count1=0\n",
    "count2=0\n",
    "j=0\n",
    "# count the total value\n",
    "for i in dataset:\n",
    "    if dataset[j,1]==0:\n",
    "        count1 += dataset[j,0]\n",
    "    else:\n",
    "        count2 +=dataset[j,0]\n",
    "    j +=1\n",
    "print(\"Total value of class 0\",count1)\n",
    "print(\"Total value of class 1\",count2)\n",
    "# sample mean for class 0\n",
    "sm1=count1/count_zero\n",
    "# sample mean for class 1\n",
    "sm2=count2/count_one\n",
    "print(\"Sample mean for class 0\",sm1)\n",
    "print(\"Sample mean for class 1\",sm2)\n",
    "cv1=0\n",
    "cv2=0\n",
    "j=0\n",
    "for i in dataset:\n",
    "    if dataset[j,1]==0:\n",
    "        cv1 += (dataset[j,0]-sm1)**2\n",
    "    else:\n",
    "        cv2 +=(dataset[j,0]-sm2)**2\n",
    "    j +=1\n",
    "# print(cv1)\n",
    "# print(cv2)\n",
    "v1=(cv1/(count_zero-1))\n",
    "v2=(cv2/(count_one-1))\n",
    "print(\"Variance of class 0 \",v1)\n",
    "print(\"Variance of class 1 \",v2)\n",
    "sv1=math.sqrt(v1)\n",
    "sv2=math.sqrt(v2)\n",
    "print(\"Standard deviation of class 0 \",sv1)\n",
    "print(\"Standard deviation of class 1 \",sv2)"
   ]
  },
  {
   "cell_type": "markdown",
   "metadata": {
    "id": "a9h6C5JDLZSD"
   },
   "source": [
    "### Plot $p_1(x)$ and $p_2(x)$"
   ]
  },
  {
   "cell_type": "code",
   "execution_count": 5,
   "metadata": {
    "id": "IDfgYxA8LZSE"
   },
   "outputs": [],
   "source": [
    "# Calculate the Gaussian probability distribution function for x\n",
    "import math\n",
    "def calculate_probability(x, mean, stdev):\n",
    "    #write code here\n",
    "    d = stdev*(math.sqrt(2*math.pi))\n",
    "    p = np.array(())\n",
    "    for i in x:\n",
    "        exponent = (-0.5)*(((float(i) - float(mean))/stdev)**2.0)\n",
    "        e = math.exp(exponent)\n",
    "        value = e/d\n",
    "        p = np.append(p,value)\n",
    "     #print(i,value)\n",
    "    return p"
   ]
  },
  {
   "cell_type": "code",
   "execution_count": 6,
   "metadata": {
    "colab": {
     "base_uri": "https://localhost:8080/",
     "height": 298
    },
    "id": "Ef53gZilLZSE",
    "outputId": "0e70f6a0-6a45-4e03-a2a1-5277709dc420"
   },
   "outputs": [
    {
     "data": {
      "text/plain": [
       "[<matplotlib.lines.Line2D at 0x1aa46c7b730>,\n",
       " <matplotlib.lines.Line2D at 0x1aa46c7b760>]"
      ]
     },
     "execution_count": 6,
     "metadata": {},
     "output_type": "execute_result"
    },
    {
     "data": {
      "image/png": "[encoded data removed]",
      "text/plain": [
       "<Figure size 432x288 with 1 Axes>"
      ]
     },
     "metadata": {
      "needs_background": "light"
     },
     "output_type": "display_data"
    }
   ],
   "source": [
    "x  = np.arange(-10,15,0.1)\n",
    "#print(x)\n",
    "#y = calculate_probability(x,sm1,sv1)\n",
    "#print(y)\n",
    "plt.plot(x,calculate_probability(x,sm1,sv1),'b',x,calculate_probability(x,sm2,sv2),'r')"
   ]
  },
  {
   "cell_type": "markdown",
   "metadata": {
    "id": "lhIuBI34LZSF"
   },
   "source": [
    "### Test for $x=3$  and $x=5$"
   ]
  },
  {
   "cell_type": "code",
   "execution_count": 7,
   "metadata": {
    "colab": {
     "base_uri": "https://localhost:8080/"
    },
    "id": "atufbXruLZSF",
    "outputId": "c05e4144-2ae0-4df0-b5f0-920372dbe4cc"
   },
   "outputs": [
    {
     "name": "stdout",
     "output_type": "stream",
     "text": [
      "class 0\n"
     ]
    }
   ],
   "source": [
    "#for x=3\n",
    "#write code here\n",
    "#we can do like this because for class 0 and class 1 probability are same\n",
    "closuretozero = ((float(3)-sm1)/sv1)**2\n",
    "closuretoone = ((float(3)-sm2)**2/sv2)**2\n",
    "#print(closuretozero)\n",
    "#print(closuretoone)\n",
    "if closuretozero<closuretoone:\n",
    "    print(\"class 0\")\n",
    "else:\n",
    "    print(\"class 1\")"
   ]
  },
  {
   "cell_type": "code",
   "execution_count": 8,
   "metadata": {
    "colab": {
     "base_uri": "https://localhost:8080/"
    },
    "id": "fhJVvJrMLZSG",
    "outputId": "013dc287-7255-4846-834e-a3f1a0821c2d"
   },
   "outputs": [
    {
     "name": "stdout",
     "output_type": "stream",
     "text": [
      "class 1\n"
     ]
    }
   ],
   "source": [
    "#for x=5\n",
    "#write code here\n",
    "closuretozero = ((float(5)-sm1)/sv1)**2\n",
    "closuretoone = ((float(5)-sm2)/sv2)**2\n",
    "#print(closuretozero)\n",
    "#print(closuretoone)\n",
    "if closuretozero<closuretoone:\n",
    "    print(\"class 0\")\n",
    "else:\n",
    "    print(\"class 1\")"
   ]
  },
  {
   "cell_type": "markdown",
   "metadata": {
    "id": "IpRk3GkqLZSG"
   },
   "source": [
    "## Homework:\n",
    "1. Try for this 2-D data using classnote\n",
    "2. Implement Bayesian classifier for iris data.\n",
    "You can get help from following link. https://machinelearningmastery.com/naive-bayes-classifier-scratch-python/"
   ]
  },
  {
   "cell_type": "markdown",
   "metadata": {},
   "source": [
    "1.Question"
   ]
  },
  {
   "cell_type": "code",
   "execution_count": 10,
   "metadata": {
    "colab": {
     "base_uri": "https://localhost:8080/"
    },
    "id": "toN5l0VbLZSG",
    "outputId": "47c298f7-3871-4f4a-f403-616ff8d9fba1"
   },
   "outputs": [
    {
     "name": "stdout",
     "output_type": "stream",
     "text": [
      "count_zero  5\n",
      "count_one  5\n",
      "Probability of zero  0.5\n",
      "Probability of one  0.5\n",
      "Total value of class 0 feature1 13.7\n",
      "Total value of class 0 feature2 15.0\n",
      "Total value of class 1 feature1 38.05\n",
      "Total value of class 1 feature2 14.940000000000001\n",
      "Sample mean vector for class 0 [2.74 3.  ]\n",
      "Sample mean vector for class 1 [7.61  2.988]\n",
      "Variance vector of class 0  [0.85915 1.21885]\n",
      "Variance vector of class 1  [1.52535 2.10922]\n",
      "Standard deviation vector of class 0  [0.92690345 1.1040154 ]\n",
      "Standard deviation vector of class 1  [1.23505061 1.45231539]\n",
      "Covariance of X1 and X2 for class0 0.019075000000000186\n",
      "Covariance of X1 and X2 for class1 -0.6770499999999999\n",
      "Variance covariance Matrix for class0 \n",
      " [[0.85915  0.019075]\n",
      " [0.019075 1.21885 ]]\n",
      "Variance covariance Matrix for class1 \n",
      " [[ 1.52535 -0.67705]\n",
      " [-0.67705  2.10922]]\n",
      "How many test data you have?\n",
      "2\n",
      "Enter x1 and x2: \n",
      "3 2\n",
      "X1  3.0 X2  2.0\n",
      "Class 0\n",
      "Enter x1 and x2: \n",
      "9 3\n",
      "X1  9.0 X2  3.0\n",
      "Class 1\n"
     ]
    }
   ],
   "source": [
    "#write code here\n",
    "#1st question\n",
    "import pandas as pd\n",
    "import numpy as np\n",
    "\n",
    "dataset = pd.read_csv('csvs/Feature.csv')\n",
    "#extract the feature\n",
    "x = np.array((dataset.iloc[:, :-1].values))\n",
    "#y contains class value\n",
    "y = np.array((dataset.iloc[:, -1].values))\n",
    "\n",
    "#find out the probability of class 0 and class 1\n",
    "count_zero=0\n",
    "count_one=0\n",
    "for i in y:\n",
    "    if i==0:\n",
    "        count_zero +=1\n",
    "    else:\n",
    "        count_one +=1\n",
    "print(\"count_zero \",count_zero)\n",
    "print(\"count_one \",count_one)\n",
    "length = len(y)\n",
    "probability_zero = (count_zero/length)\n",
    "probability_one = (count_one/length)\n",
    "print(\"Probability of zero \",probability_zero)\n",
    "print(\"Probability of one \",probability_one)\n",
    "#print(x)\n",
    "#print(dataset)\n",
    "#find out the mean value\n",
    "import math\n",
    "feature1class0=0\n",
    "feature2class0=0\n",
    "feature1class1=0\n",
    "feature2class1=0\n",
    "# count the total value\n",
    "for i in range(len(dataset)):\n",
    "    c = dataset.loc[i,'Class']\n",
    "    #print(c)\n",
    "    if c==0:\n",
    "        feature1class0 += dataset.loc[i,\"X1\"]\n",
    "        feature2class0 +=dataset.loc[i,\"X2\"]\n",
    "    else:\n",
    "        feature1class1 +=dataset.loc[i,'X1']\n",
    "        feature2class1 +=dataset.loc[i,\"X2\"]\n",
    "    \n",
    "print(\"Total value of class 0 feature1\",feature1class0)\n",
    "print(\"Total value of class 0 feature2\",feature2class0)\n",
    "print(\"Total value of class 1 feature1\",feature1class1)\n",
    "print(\"Total value of class 1 feature2\",feature2class1)\n",
    "\n",
    "# sample mean vector for class 0\n",
    "smv1=np.array(((feature1class0/count_zero),(feature2class0/count_zero)))\n",
    "# sample mean for class 1\n",
    "smv2=np.array(((feature1class1/count_one),(feature2class1/count_one)))\n",
    "print(\"Sample mean vector for class 0\",smv1)\n",
    "print(\"Sample mean vector for class 1\",smv2)\n",
    "\n",
    "#variance calculation\n",
    "#class0\n",
    "cv1f1class0=0\n",
    "cv1f2class0=0\n",
    "#class1\n",
    "cv2f1class1=0\n",
    "cv2f2class1=0\n",
    "for i in range(len(dataset)):\n",
    "    c = dataset.loc[i,'Class']\n",
    "    if c==0:\n",
    "        cv1f1class0 += (dataset.loc[i,'X1']-smv1[0])**2\n",
    "        cv1f2class0 += (dataset.loc[i,'X2']-smv1[1])**2\n",
    "    else:\n",
    "        cv2f1class1 += (dataset.loc[i,'X1']-smv2[0])**2\n",
    "        cv2f2class1 += (dataset.loc[i,'X2']-smv2[1])**2\n",
    "    \n",
    "# print(cv1)\n",
    "# print(cv2)\n",
    "v1f1=(cv1f1class0/(count_zero-1))\n",
    "v1f2=(cv1f2class0/(count_zero-1))\n",
    "v1vector=np.array((v1f1,v1f2))\n",
    "\n",
    "#class 1\n",
    "v2f1=(cv2f1class1/(count_one-1))\n",
    "v2f2=(cv2f2class1/(count_one-1))\n",
    "v2vector=np.array((v2f1,v2f2))\n",
    "\n",
    "print(\"Variance vector of class 0 \",v1vector)\n",
    "print(\"Variance vector of class 1 \",v2vector)\n",
    "#standard variation for class0\n",
    "sd1f1=math.sqrt(v1f1)\n",
    "sd1f2=math.sqrt(v1f2)\n",
    "sd1=np.array((sd1f1,sd1f2))\n",
    "\n",
    "#standard deviation for class1\n",
    "sd2f1=math.sqrt(v2f1)\n",
    "sd2f2=math.sqrt(v2f2)\n",
    "sd2=np.array((sd2f1,sd2f2))\n",
    "print(\"Standard deviation vector of class 0 \",sd1)\n",
    "print(\"Standard deviation vector of class 1 \",sd2)\n",
    "\n",
    "#covariance\n",
    "#class0\n",
    "cv1xyclass0=0\n",
    "#cv1yxclass0=0\n",
    "cv2xyclass1=0\n",
    "#cv2yxclass1=0\n",
    "for i in range(len(dataset)):\n",
    "    c = dataset.loc[i,'Class']\n",
    "    if c==0:\n",
    "        cv1xyclass0 +=(dataset.loc[i,'X1']-smv1[0])*(dataset.loc[i,'X2']-smv1[1])\n",
    "    else:\n",
    "        cv2xyclass1 += (dataset.loc[i,'X1']-smv2[0])*(dataset.loc[i,'X2']-smv1[1])\n",
    "\n",
    "cv1xyclass0 /=(count_zero-1)\n",
    "cv2xyclass1 /=(count_one-1)\n",
    "print(\"Covariance of X1 and X2 for class0\",cv1xyclass0)\n",
    "print(\"Covariance of X1 and X2 for class1\",cv2xyclass1)\n",
    "\n",
    "#variance covariance matrix for class 0\n",
    "matrixclass0=np.array(([v1f1,cv1xyclass0],[cv1xyclass0,v1f2]))\n",
    "matrixclass1=np.array(([v2f1,cv2xyclass1],[cv2xyclass1,v2f2]))\n",
    "print(\"Variance covariance Matrix for class0 \\n\",matrixclass0)\n",
    "print(\"Variance covariance Matrix for class1 \\n\",matrixclass1)\n",
    "\n",
    "#Here i use bivariant gaussian distribution\n",
    "#here probability of both classes are same that's why \n",
    "#i am only finding distance and whatever distance is less we put in this class\n",
    "class0inverse = np.linalg.inv(matrixclass0) \n",
    "class1inverse = np.linalg.inv(matrixclass1)\n",
    "def calculate(x,m1,m2):\n",
    "    v1 = np.array(())\n",
    "    v2 = np.array(())\n",
    "    length = len(x)\n",
    "    for i in range(length):\n",
    "        y1 = float(x[i])-smv1[i]\n",
    "        y2 = float(x[i])-smv2[i]\n",
    "        v1 = np.append(v1,y1)\n",
    "        v2 = np.append(v2,y2)\n",
    "\n",
    "    v1t=v1.transpose()\n",
    "    v2t=v2.transpose()\n",
    "\n",
    "    r1=np.dot(v1t,m1)\n",
    "    r01=np.dot(r1,v1)\n",
    "\n",
    "    r2=np.dot(v2t,m2)\n",
    "    r02=np.dot(r2,v2)\n",
    "\n",
    "    if r01<=r02:\n",
    "        print(\"Class 0\")\n",
    "    else:\n",
    "        print(\"Class 1\")\n",
    "\n",
    "y=int(input(\"How many test data you have?\\n\"))\n",
    "for i in range(y):\n",
    "    x=np.array(())\n",
    "    d1, d2 = [int(x) for x in input(\"Enter x1 and x2: \\n\").split()]\n",
    "    x =np.append(x,[d1,d2])\n",
    "    print(\"X1 \",x[0],\"X2 \",x[1])\n",
    "    calculate(x,class0inverse,class1inverse)\n"
   ]
  },
  {
   "cell_type": "markdown",
   "metadata": {},
   "source": [
    "2.Navie Bayes"
   ]
  },
  {
   "cell_type": "markdown",
   "metadata": {
    "id": "bjb9L_kLn8C8"
   },
   "source": [
    "**Step 1:PreProcess Step**\n",
    "*   Load csv. \n",
    "*   When we load csv all the data comes in string format so we convert \n",
    "    independent attribute (4 column) in float and convert class\n",
    "    (dependent) attribute in integer.  \n",
    "*   return dataset for future implementation"
   ]
  },
  {
   "cell_type": "code",
   "execution_count": 12,
   "metadata": {
    "colab": {
     "base_uri": "https://localhost:8080/",
     "height": 337
    },
    "id": "cwFRxG0mi0ee",
    "outputId": "acc97b1b-c15e-43d1-b052-44f15eab8558"
   },
   "outputs": [
    {
     "name": "stdout",
     "output_type": "stream",
     "text": [
      "[Iris-virginica] => 0\n",
      "[Iris-versicolor] => 1\n",
      "[Iris-setosa] => 2\n"
     ]
    }
   ],
   "source": [
    "from numpy import genfromtxt\n",
    "from csv import reader\n",
    "\n",
    "# Load a CSV file\n",
    "def preprocessing(filename):\n",
    "    \n",
    "    def load_csv(filename):\n",
    "        dataset = list()\n",
    "        with open(filename, 'r') as file:\n",
    "            csv_reader = reader(file)\n",
    "            for row in csv_reader:\n",
    "                if not row:\n",
    "                    continue\n",
    "                dataset.append(row)\n",
    "        return dataset\n",
    "\n",
    "    # Convert string column to float\n",
    "    def str_column_to_float(dataset, column):\n",
    "        for row in dataset:\n",
    "            row[column] = float(row[column].strip())\n",
    "\n",
    "    # Convert string column to integer\n",
    "    def str_column_to_int(dataset, column):\n",
    "        class_values = [row[column] for row in dataset]\n",
    "        unique = set(class_values)\n",
    "        lookup = dict()\n",
    "        for i, value in enumerate(unique):\n",
    "            lookup[value] = i\n",
    "            print('[%s] => %d' % (value, i))\n",
    "        for row in dataset:\n",
    "            row[column] = lookup[row[column]]\n",
    "        return lookup\n",
    "     \n",
    "    dataset = load_csv(filename)\n",
    "    \n",
    "    for i in range(len(dataset[0])-1):\n",
    "        str_column_to_float(dataset, i)\n",
    "    # convert class column to integers\n",
    "    str_column_to_int(dataset, len(dataset[0])-1)\n",
    "    \n",
    "    return dataset\n",
    "    \n",
    "df = preprocessing('csvs/Iris.csv')  "
   ]
  },
  {
   "cell_type": "markdown",
   "metadata": {
    "id": "dzsVhTLQEYpv"
   },
   "source": [
    "**Step 2:Separate Dataset by class and Summarize Dataset**"
   ]
  },
  {
   "cell_type": "code",
   "execution_count": 13,
   "metadata": {
    "colab": {
     "base_uri": "https://localhost:8080/"
    },
    "id": "gWjZdWE6FvGN",
    "outputId": "99e83f0d-4451-4daf-89b0-ed45ea036073"
   },
   "outputs": [],
   "source": [
    "from math import sqrt\n",
    "from math import exp\n",
    "from math import pi\n",
    "# Split the dataset by class values, returns a dictionary\n",
    "def separate_by_class(dataset):\n",
    "\tseparated = dict()\n",
    "\tfor i in range(len(dataset)):\n",
    "\t\tvector = dataset[i]\n",
    "\t\tclass_value = vector[-1]\n",
    "\t\tif (class_value not in separated):\n",
    "\t\t\tseparated[class_value] = list()\n",
    "\t\tseparated[class_value].append(vector)\n",
    "\treturn separated\n",
    " \n",
    "# Calculate the mean of a list of numbers\n",
    "def mean(numbers):\n",
    "\treturn sum(numbers)/float(len(numbers))\n",
    " \n",
    "# Calculate the standard deviation of a list of numbers\n",
    "def stdev(numbers):\n",
    "\tavg = mean(numbers)\n",
    "\tvariance = sum([(x-avg)**2 for x in numbers]) / float(len(numbers)-1)\n",
    "\treturn sqrt(variance)\n",
    " \n",
    "# Calculate the mean, stdev and count for each column in a dataset\n",
    "def summarize_dataset(dataset):\n",
    "\tsummaries = [(mean(column), stdev(column), len(column)) for column in zip(*dataset)]\n",
    "\tdel(summaries[-1])\n",
    "\treturn summaries\n",
    " \n",
    "# Split dataset by class then calculate statistics for each row\n",
    "def summarize_by_class(dataset):\n",
    "\tseparated = separate_by_class(dataset)\n",
    "\tsummaries = dict()\n",
    "\tfor class_value, rows in separated.items():\n",
    "\t\tsummaries[class_value] = summarize_dataset(rows)\n",
    "\treturn summaries\n",
    "\n",
    "model = summarize_by_class(df)"
   ]
  },
  {
   "cell_type": "markdown",
   "metadata": {
    "id": "YQLIFrcjNoPm"
   },
   "source": [
    "**Step 3:Calculate Gausian Function Find class Probability and pedict for our dataset**"
   ]
  },
  {
   "cell_type": "code",
   "execution_count": 14,
   "metadata": {
    "id": "cEew9oVMNxpo"
   },
   "outputs": [
    {
     "name": "stdout",
     "output_type": "stream",
     "text": [
      "Data=[5.7, 2.9, 4.2, 1.3], Predicted: 1\n"
     ]
    }
   ],
   "source": [
    "# Calculate the Gaussian probability distribution function for x\n",
    "def calculate_probability(x, mean, stdev):\n",
    "\texponent = exp(-((x-mean)**2 / (2 * stdev**2 )))\n",
    "\treturn (1 / (sqrt(2 * pi) * stdev)) * exponent\n",
    "\n",
    "# Calculate the probabilities of predicting each class for a given row\n",
    "def calculate_class_probabilities(summaries, row):\n",
    "\ttotal_rows = sum([summaries[label][0][2] for label in summaries])\n",
    "\tprobabilities = dict()\n",
    "\tfor class_value, class_summaries in summaries.items():\n",
    "\t\tprobabilities[class_value] = summaries[class_value][0][2]/float(total_rows)\n",
    "\t\tfor i in range(len(class_summaries)):\n",
    "\t\t\tmean, stdev, _ = class_summaries[i]\n",
    "\t\t\tprobabilities[class_value] *= calculate_probability(row[i], mean, stdev)\n",
    "\treturn probabilities\n",
    "\n",
    "# Predict the class for a given row\n",
    "def predict(summaries, row):\n",
    "\tprobabilities = calculate_class_probabilities(summaries, row)\n",
    "\tbest_label, best_prob = None, -1\n",
    "\tfor class_value, probability in probabilities.items():\n",
    "\t\tif best_label is None or probability > best_prob:\n",
    "\t\t\tbest_prob = probability\n",
    "\t\t\tbest_label = class_value\n",
    "\treturn best_label\n",
    "\n",
    "# define a new record\n",
    "row = [5.7,2.9,4.2,1.3]\n",
    "# predict the label\n",
    "label = predict(model, row)\n",
    "print('Data=%s, Predicted: %s' % (row, label))"
   ]
  },
  {
   "cell_type": "markdown",
   "metadata": {
    "id": "Eh90hLHqLZSH"
   },
   "source": [
    "## 2. K-Nearest neighbour (KNN)\n",
    "\n",
    "Consider the following observations:\n",
    "![image.png](attachment:image.png)\n",
    "\n",
    "Use KNN technique to classify the test data using K=3.\n",
    "\n",
    "Hint: \n",
    "<br>\n",
    "1) Calculate the Euclidean distance between the new point and the existing points.\n",
    "<br>\n",
    "2) Sort out the points distance-wise.\n",
    "<br>\n",
    "3) Now select the k-neighbours. "
   ]
  },
  {
   "cell_type": "code",
   "execution_count": 15,
   "metadata": {
    "colab": {
     "base_uri": "https://localhost:8080/"
    },
    "id": "ZfW0DzmqLZSH",
    "outputId": "8beda630-b4b1-41e8-9b48-73505ea4c10e",
    "scrolled": true
   },
   "outputs": [
    {
     "name": "stdout",
     "output_type": "stream",
     "text": [
      "Feature1|Feature2|Class\n",
      "[[-2. -1.  1.]\n",
      " [-2.  1.  2.]\n",
      " [-2.  2.  2.]\n",
      " [-1. -1.  1.]\n",
      " [ 1. -1.  1.]\n",
      " [ 1.  1.  3.]\n",
      " [ 1.  2.  3.]\n",
      " [ 2.  1.  3.]]\n"
     ]
    }
   ],
   "source": [
    "data = np.float32([[-2,-1,1],[-2,1,2],[-2,2,2],[-1,-1,1],[1,-1,1],[1,1,3],[1,2,3],[2,1,3]])\n",
    "print('Feature1|Feature2|Class')\n",
    "print(data)"
   ]
  },
  {
   "cell_type": "code",
   "execution_count": 17,
   "metadata": {
    "colab": {
     "base_uri": "https://localhost:8080/",
     "height": 534
    },
    "id": "6wJQtJ4lLZSI",
    "outputId": "ad4f0e8b-ff54-4d45-96f0-705cc2716b67"
   },
   "outputs": [
    {
     "name": "stdout",
     "output_type": "stream",
     "text": [
      "How many test data you have?\n",
      "2\n",
      "Enter x1 and x2: \n",
      "1 -1\n",
      "X1  1.0 X2  -1.0\n",
      "Sort according to euclidean distance\n",
      "|Feature1    |Feature2    |Class    |Euclidean Distance  \n",
      "[[ 1.         -1.          1.          0.        ]\n",
      " [-1.         -1.          1.          2.        ]\n",
      " [ 1.          1.          3.          2.        ]\n",
      " [ 2.          1.          3.          2.23606798]\n",
      " [-2.         -1.          1.          3.        ]\n",
      " [ 1.          2.          3.          3.        ]\n",
      " [-2.          1.          2.          3.60555128]\n",
      " [-2.          2.          2.          4.24264069]]\n"
     ]
    },
    {
     "data": {
      "image/png": "[encoded data removed]",
      "text/plain": [
       "<Figure size 432x288 with 1 Axes>"
      ]
     },
     "metadata": {
      "needs_background": "light"
     },
     "output_type": "display_data"
    },
    {
     "name": "stdout",
     "output_type": "stream",
     "text": [
      "Test data is in Class 1\n",
      "Enter x1 and x2: \n",
      "3 4\n",
      "X1  3.0 X2  4.0\n",
      "Sort according to euclidean distance\n",
      "|Feature1    |Feature2    |Class    |Euclidean Distance  \n",
      "[[ 1.          2.          3.          2.82842712]\n",
      " [ 2.          1.          3.          3.16227766]\n",
      " [ 1.          1.          3.          3.60555128]\n",
      " [-2.          2.          2.          5.38516481]\n",
      " [ 1.         -1.          1.          5.38516481]\n",
      " [-2.          1.          2.          5.83095189]\n",
      " [-1.         -1.          1.          6.40312424]\n",
      " [-2.         -1.          1.          7.07106781]]\n"
     ]
    },
    {
     "data": {
      "image/png": "[encoded data removed]",
      "text/plain": [
       "<Figure size 432x288 with 1 Axes>"
      ]
     },
     "metadata": {
      "needs_background": "light"
     },
     "output_type": "display_data"
    },
    {
     "name": "stdout",
     "output_type": "stream",
     "text": [
      "Test data is in Class 3\n"
     ]
    }
   ],
   "source": [
    "#write code here\n",
    "import math\n",
    "m1 = [-2,-1,1]\n",
    "n1 = [-1,-1,-1]\n",
    "m2 = [-2,-2]\n",
    "n2 = [ 1, 2]\n",
    "m3 = [1,1,2]\n",
    "n3 = [1,2,1]\n",
    "def distance(vect):\n",
    "  # Array to be added as column\n",
    "    column_to_be_added = np.array(())\n",
    "    length=len(data)\n",
    "    for i in range(length):\n",
    "        p=np.array(())\n",
    "        p1,p2=data[i,0],data[i,1]\n",
    "        p=np.append(p,[p1,p2])\n",
    "        ed=math.sqrt((vect[0]-p[0])**2+(vect[1]-p[1])**2)\n",
    "        column_to_be_added=np.append(column_to_be_added,ed)\n",
    "  \n",
    "    # Adding column to numpy array\n",
    "    datawitheuclideandistance = np.column_stack((data, column_to_be_added))\n",
    "    after_sort = datawitheuclideandistance[datawitheuclideandistance[:,-1].argsort()]\n",
    "    print(\"Sort according to euclidean distance\")\n",
    "    print(\"|Feature1    |Feature2    |Class    |Euclidean Distance  \")\n",
    "    print(after_sort)\n",
    "    plt.scatter(m1,n1,color='blue',s=150)\n",
    "    plt.scatter(m2,n2,color='green',s=150)\n",
    "    plt.scatter(m3,n3,color='orange',s=150)\n",
    "    plt.scatter(vect[0],vect[1],color='red')\n",
    "    plt.show()\n",
    "    c0count=0\n",
    "    c1count=0\n",
    "    c2count=0\n",
    "    for i in range(3):\n",
    "        if after_sort[i,2]==1:\n",
    "            c0count +=1\n",
    "        elif after_sort[i,2]==2:\n",
    "            c1count +=1\n",
    "        else:\n",
    "            c2count +=1\n",
    "            \n",
    "     #calculate our test dataset in which class\n",
    "    if (c0count>=c1count) and (c0count>=c2count):\n",
    "        print(\"Test data is in Class 1\")\n",
    "    elif (c1count>=c2count):\n",
    "        print(\"Test data is in Class 2\")\n",
    "    else:\n",
    "        print(\"Test data is in Class 3\")\n",
    "  #return math.dist(p,q)\n",
    "\n",
    "y=int(input(\"How many test data you have?\\n\"))\n",
    "for i in range(y):\n",
    "    x=np.array(())\n",
    "    d1, d2 = [int(x) for x in input(\"Enter x1 and x2: \\n\").split()]\n",
    "    x =np.append(x,[d1,d2])\n",
    "    print(\"X1 \",x[0],\"X2 \",x[1])\n",
    "    distance(x)"
   ]
  },
  {
   "cell_type": "markdown",
   "metadata": {
    "id": "Z8-q3-ToLZSI"
   },
   "source": [
    "## 3. K-Means\n",
    "\n",
    "Ignore the class information of the training data given in problem 2 and use K-means algorithm to classify the same. Assume the initial starting classes as:  \n",
    "<br>\n",
    "C1={observations 1,2}\n",
    "<br>\n",
    "C2={observations 3,4,5}\n",
    "<br>\n",
    "C3={observations 6,7,8}\n",
    "<br>\n",
    "\n",
    "Now using the result find the class that would be assigned to the test data.\n",
    "\n",
    "<br>\n",
    "Hint: \n",
    "\n",
    "1) Find the centroid (mean) of each cluster based on the initial classes assignment given.\n",
    "\n",
    "2) Find out the Euclidean distance between each point and each cluster centroid. \n",
    "\n",
    "3) Assign all the points to the closest cluster centroid.\n",
    "\n",
    "4) Recompute centroids of newly formed clusters.\n",
    "\n",
    "5) Stop if the new centroids are same as old centroids else repeat step 2 to 4. "
   ]
  },
  {
   "cell_type": "code",
   "execution_count": 19,
   "metadata": {
    "colab": {
     "base_uri": "https://localhost:8080/",
     "height": 366
    },
    "id": "TQaeaxGsLZSI",
    "outputId": "e284922d-7d7c-473d-fb8d-f01604afee7d"
   },
   "outputs": [
    {
     "name": "stdout",
     "output_type": "stream",
     "text": [
      "intial centroids = \n",
      " [[-2.          0.        ]\n",
      " [-0.66666667  0.        ]\n",
      " [ 1.33333333  1.33333333]]\n"
     ]
    },
    {
     "data": {
      "image/png": "[encoded data removed]",
      "text/plain": [
       "<Figure size 432x288 with 1 Axes>"
      ]
     },
     "metadata": {
      "needs_background": "light"
     },
     "output_type": "display_data"
    }
   ],
   "source": [
    "X = data[:,:-1]\n",
    "x1 = data[0:2,0]\n",
    "y1 = data[0:2,1]\n",
    "x2 = data[2:5,0]\n",
    "y2 = data[2:5,1]\n",
    "x3 = data[5:8,0]\n",
    "y3 = data[5:8,1]\n",
    "m,n = X.shape\n",
    "#print(m)\n",
    "#print(n)\n",
    "centroid = np.array(([(X[0,0]+X[1,0])/2,(X[0,1]+X[1,1])/2],[(X[2,0]+X[3,0]+X[4,0])/3,(X[2,1]+X[3,1]+X[4,1])/3],[(X[5,0]+X[6,0]+X[7,0])/3,(X[5,1]+X[6,1]+X[7,1])/3]))\n",
    "#for i in range(len(X)):\n",
    "c1=centroid[:,0]\n",
    "c2=centroid[:,1]\n",
    "plt.scatter(x1,y1,color='blue',s=150)\n",
    "plt.scatter(x2,y2,color='green',s=150)\n",
    "plt.scatter(x3,y3,color='orange',s=150)\n",
    "plt.scatter(c1,c2,color='red',s=150)\n",
    "print('intial centroids = \\n',centroid)\n"
   ]
  },
  {
   "cell_type": "code",
   "execution_count": 20,
   "metadata": {
    "colab": {
     "base_uri": "https://localhost:8080/"
    },
    "id": "fIXUfmdiLZSJ",
    "outputId": "d983e017-823b-4af2-8584-c79fd07bee76"
   },
   "outputs": [
    {
     "name": "stdout",
     "output_type": "stream",
     "text": [
      "[[0.         1.         1.66666667 4.06885187]\n",
      " [1.         1.         1.66666667 3.34995854]\n",
      " [2.         2.         2.40370085 3.39934634]\n",
      " [3.         1.41421356 1.05409255 3.29983165]\n",
      " [4.         3.16227766 1.94365063 2.3570226 ]\n",
      " [5.         3.16227766 1.94365063 0.47140452]\n",
      " [6.         3.60555128 2.60341656 0.74535599]\n",
      " [7.         4.12310563 2.84800125 0.74535599]]\n",
      "X 0  is in C1 \n",
      "X 1  is in C1 \n",
      "X 2  is in C1 \n",
      "X 3  is in C2\n",
      "X 4  is in C2\n",
      "X 5  is in C3\n",
      "X 6  is in C3\n",
      "X 7  is in C3\n"
     ]
    }
   ],
   "source": [
    "#write code for kmeans\n",
    "import math\n",
    "def distance(A):\n",
    "    # Array to be added as column\n",
    "    distances = np.empty((0,4),float)\n",
    "    length=len(X)\n",
    "    for i in range(length):\n",
    "        p=np.array(())\n",
    "        p1,p2=data[i,0],data[i,1]\n",
    "        p=np.append(p,[p1,p2])\n",
    "        ed1=math.sqrt((A[0,0]-p[0])**2+(A[0,1]-p[1])**2)\n",
    "        ed2=math.sqrt((A[1,0]-p[0])**2+(A[1,1]-p[1])**2)\n",
    "        ed3=math.sqrt((A[2,0]-p[0])**2+(A[2,1]-p[1])**2)\n",
    "        distances = np.append(distances, np.array([[i,ed1,ed2,ed3]]), axis=0)\n",
    "\n",
    "    #distances=np.append(distances,np.array([[i,ed1,ed2,ed3]]),axis=0)\n",
    "    print(distances)\n",
    "    return distances\n",
    "\n",
    "#function which tell which point is in which class\n",
    "def again_class(d):\n",
    "    for i in range(len(d)):\n",
    "        if d[i,1]<=d[i,2] and d[i,1]<=d[i,3]:\n",
    "            print(\"X\",i,\" is in C1 \")\n",
    "        elif d[i,2]<=d[i,3]:\n",
    "            print(\"X\",i,\" is in C2\")\n",
    "        else:\n",
    "            print(\"X\",i,\" is in C3\")\n",
    "d = distance(centroid)\n",
    "again_class(d)"
   ]
  },
  {
   "cell_type": "code",
   "execution_count": 21,
   "metadata": {
    "colab": {
     "base_uri": "https://localhost:8080/",
     "height": 634
    },
    "id": "JjWQdv3C-xij",
    "outputId": "c8e886f2-37e8-4e9f-b022-2b9d79cf5a63"
   },
   "outputs": [
    {
     "name": "stdout",
     "output_type": "stream",
     "text": [
      "now centroid is \n",
      " [[-2.          0.66666667]\n",
      " [ 0.         -1.        ]\n",
      " [ 1.33333333  1.33333333]]\n",
      "Continue \n",
      "[[0.         1.66666667 2.         4.06885187]\n",
      " [1.         0.33333333 2.82842712 3.34995854]\n",
      " [2.         1.33333333 3.60555128 3.39934634]\n",
      " [3.         1.94365063 1.         3.29983165]\n",
      " [4.         3.43187671 1.         2.3570226 ]\n",
      " [5.         3.01846171 2.23606798 0.47140452]\n",
      " [6.         3.2829526  3.16227766 0.74535599]\n",
      " [7.         4.01386486 2.82842712 0.74535599]]\n",
      "X 0  is in C1 \n",
      "X 1  is in C1 \n",
      "X 2  is in C1 \n",
      "X 3  is in C2\n",
      "X 4  is in C2\n",
      "X 5  is in C3\n",
      "X 6  is in C3\n",
      "X 7  is in C3\n"
     ]
    },
    {
     "data": {
      "text/plain": [
       "<matplotlib.collections.PathCollection at 0x1aa47b31250>"
      ]
     },
     "execution_count": 21,
     "metadata": {},
     "output_type": "execute_result"
    },
    {
     "data": {
      "image/png": "[encoded data removed]",
      "text/plain": [
       "<Figure size 432x288 with 1 Axes>"
      ]
     },
     "metadata": {
      "needs_background": "light"
     },
     "output_type": "display_data"
    }
   ],
   "source": [
    "#according to above assumption\n",
    "centroid1 = np.array(([(X[0,0]+X[1,0]+X[2,0])/3,(X[0,1]+X[1,1]+X[2,1])/3],[(X[3,0]+X[4,0])/2,(X[3,1]+X[4,1])/2],[(X[5,0]+X[6,0]+X[7,0])/3,(X[5,1]+X[6,1]+X[7,1])/3]))\n",
    "print(\"now centroid is \\n\",centroid1)\n",
    "\n",
    "comparison = centroid == centroid1 \n",
    "equal_arrays = comparison.all() \n",
    "if equal_arrays:\n",
    "    print(\"Stop \")\n",
    "else:\n",
    "    print(\"Continue \")\n",
    "    d2=distance(centroid1)\n",
    "    again_class(d2)\n",
    "x1 = data[0:3,0]\n",
    "y1 = data[0:3,1]\n",
    "x2 = data[3:5,0]\n",
    "y2 = data[3:5,1]\n",
    "x3 = data[5:8,0]\n",
    "y3 = data[5:8,1]\n",
    "c1 = centroid1[:,0]\n",
    "c2 = centroid1[:,1]\n",
    "plt.scatter(x1,y1,color='blue',s=150)\n",
    "plt.scatter(x2,y2,color='green',s=150)\n",
    "plt.scatter(x3,y3,color='orange',s=150)\n",
    "plt.scatter(c1,c2,color='red',s=150)"
   ]
  },
  {
   "cell_type": "code",
   "execution_count": 23,
   "metadata": {
    "colab": {
     "base_uri": "https://localhost:8080/"
    },
    "id": "Ta0Fwgy1CtVY",
    "outputId": "3669614d-4cd3-4c59-8bdf-f5804482b85f"
   },
   "outputs": [
    {
     "name": "stdout",
     "output_type": "stream",
     "text": [
      "now centroid is \n",
      " [[-2.          0.66666667]\n",
      " [ 0.         -1.        ]\n",
      " [ 1.33333333  1.33333333]]\n",
      "Stop \n",
      "New centroid is same as Previous centroid\n",
      "[[-2. -1.  1.]\n",
      " [-2.  1.  1.]\n",
      " [-2.  2.  1.]\n",
      " [-1. -1.  2.]\n",
      " [ 1. -1.  2.]\n",
      " [ 1.  1.  3.]\n",
      " [ 1.  2.  3.]\n",
      " [ 2.  1.  3.]]\n"
     ]
    }
   ],
   "source": [
    "#according to above assumption\n",
    "centroid2 = np.array(([(X[0,0]+X[1,0]+X[2,0])/3,(X[0,1]+X[1,1]+X[2,1])/3],[(X[3,0]+X[4,0])/2,(X[3,1]+X[4,1])/2],[(X[5,0]+X[6,0]+X[7,0])/3,(X[5,1]+X[6,1]+X[7,1])/3]))\n",
    "print(\"now centroid is \\n\",centroid1)\n",
    "\n",
    "comparison = centroid1 == centroid2 \n",
    "equal_arrays = comparison.all() \n",
    "if equal_arrays:\n",
    "    print(\"Stop \")\n",
    "    print(\"New centroid is same as Previous centroid\")\n",
    "    # Array to be added as column\n",
    "    column_to_be_added = np.array([1, 1, 1, 2, 2, 3, 3, 3])\n",
    "  \n",
    "    # Adding column to numpy array\n",
    "    result = np.column_stack((X, column_to_be_added))\n",
    "    print(result)\n",
    "\n",
    "else:\n",
    "    print(\"Continue \")\n",
    "    d2=distance(centroid1)\n",
    "    again_class(d2)"
   ]
  },
  {
   "cell_type": "code",
   "execution_count": null,
   "metadata": {},
   "outputs": [],
   "source": []
  }
 ],
 "metadata": {
  "colab": {
   "collapsed_sections": [],
   "name": "202061007 RAJKOTIA NIDHI BIPINBHAI - LAB 2.ipynb",
   "provenance": []
  },
  "kernelspec": {
   "display_name": "Python 3",
   "language": "python",
   "name": "python3"
  },
  "language_info": {
   "codemirror_mode": {
    "name": "ipython",
    "version": 3
   },
   "file_extension": ".py",
   "mimetype": "text/x-python",
   "name": "python",
   "nbconvert_exporter": "python",
   "pygments_lexer": "ipython3",
   "version": "3.8.5"
  }
 },
 "nbformat": 4,
 "nbformat_minor": 1
}
